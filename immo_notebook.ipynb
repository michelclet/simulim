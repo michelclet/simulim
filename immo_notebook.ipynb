{
 "cells": [
  {
   "cell_type": "code",
   "execution_count": 3,
   "metadata": {},
   "outputs": [],
   "source": [
    "from immo_functions import simulation_resultat\n",
    "from immo_functions import mensualite_resultat\n",
    "from immo_functions import interet_resultat\n",
    "from immo_functions import capital_resultat\n",
    "from immo_functions import capacite_resultat"
   ]
  },
  {
   "cell_type": "code",
   "execution_count": 31,
   "metadata": {},
   "outputs": [
    {
     "name": "stdout",
     "output_type": "stream",
     "text": [
      "mensualite 2713 €\n",
      "notaire 45990 €\n",
      "dossier 1000 €\n",
      "garantie 5142 €\n",
      "pret 814030 €\n",
      "interets 170899 €\n",
      "endettement 60.3 €\n"
     ]
    }
   ],
   "source": [
    "# simulation_resultat\n",
    "revenus     = 4500\n",
    "credit      = 0\n",
    "prix        = 630000\n",
    "notaire     = prix*7.3/100\n",
    "taux        = 1.96\n",
    "duree       = 25\n",
    "apport      = 60000\n",
    "assurance   = 70\n",
    "output      = simulation_resultat(prix, taux, duree, apport, assurance, revenus, credit, notaire)\n",
    "for key in output.keys():\n",
    "    print(key, output[key], \"€\")"
   ]
  },
  {
   "cell_type": "code",
   "execution_count": 12,
   "metadata": {},
   "outputs": [
    {
     "name": "stdout",
     "output_type": "stream",
     "text": [
      "mensualite 2658 €\n"
     ]
    }
   ],
   "source": [
    "mensualite = mensualite_resultat(prix, taux, duree)\n",
    "print(\"mensualite\", round(mensualite), \"€\")"
   ]
  },
  {
   "cell_type": "code",
   "execution_count": 15,
   "metadata": {},
   "outputs": [
    {
     "name": "stdout",
     "output_type": "stream",
     "text": [
      "interet 167409 €\n"
     ]
    }
   ],
   "source": [
    "interet = interet_resultat(prix, taux, duree)\n",
    "print(\"interet\", round(interet), \"€\")"
   ]
  },
  {
   "cell_type": "code",
   "execution_count": 20,
   "metadata": {},
   "outputs": [
    {
     "name": "stdout",
     "output_type": "stream",
     "text": [
      "capital 630000 €\n"
     ]
    }
   ],
   "source": [
    "capital = capital_resultat(mensualite, taux, duree)\n",
    "print(\"capital\", round(capital), \"€\")"
   ]
  },
  {
   "cell_type": "code",
   "execution_count": 33,
   "metadata": {},
   "outputs": [
    {
     "name": "stdout",
     "output_type": "stream",
     "text": [
      "bien 388375 €\n",
      "mensualite 1600 €\n",
      "notaire 29233 €\n",
      "dossier 1000 €\n",
      "garantie 4029 €\n",
      "pret 383637 €\n",
      "interets 96363 €\n",
      "endettement 34.0 €\n"
     ]
    }
   ],
   "source": [
    "taux = 1.96\n",
    "duree = 25\n",
    "apport = 60000\n",
    "assurance = 70\n",
    "revenus = 4500\n",
    "credit = 0\n",
    "endettement = 34\n",
    "\n",
    "output = capacite_resultat(taux, duree, apport, assurance, revenus, credit, endettement)\n",
    "for key in output.keys():\n",
    "    print(key, output[key], \"€\")"
   ]
  }
 ],
 "metadata": {
  "kernelspec": {
   "display_name": "Python 3",
   "language": "python",
   "name": "python3"
  },
  "language_info": {
   "codemirror_mode": {
    "name": "ipython",
    "version": 3
   },
   "file_extension": ".py",
   "mimetype": "text/x-python",
   "name": "python",
   "nbconvert_exporter": "python",
   "pygments_lexer": "ipython3",
   "version": "3.10.6"
  },
  "orig_nbformat": 4
 },
 "nbformat": 4,
 "nbformat_minor": 2
}
